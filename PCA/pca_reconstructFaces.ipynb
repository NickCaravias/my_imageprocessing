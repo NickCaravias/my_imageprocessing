{
 "cells": [
  {
   "cell_type": "markdown",
   "metadata": {},
   "source": [
    "# PCA Reconstruction \n",
    "stough 202-\n",
    "\n",
    "Let's reconstruct a face according to the pca trained on the \n",
    "ORL faces dataset."
   ]
  },
  {
   "cell_type": "code",
   "execution_count": null,
   "metadata": {},
   "outputs": [],
   "source": [
    "%matplotlib widget\n",
    "import matplotlib.pyplot as plt\n",
    "import numpy as np\n",
    "from matplotlib.offsetbox import (OffsetImage,\n",
    "                                  AnnotationBbox)\n",
    "import matplotlib.animation as animation\n",
    "from sklearn.decomposition import PCA\n",
    "from skimage.color import rgb2gray\n",
    "\n",
    "from torchvision import transforms\n",
    "from torchvision.datasets import ImageFolder\n",
    "\n",
    "NUMPCA = 400\n",
    "IMAGE = None \n",
    "# IMAGE = 'josh1ThumbSmall.png' # None\n",
    "\n",
    "imshape = (112, 92)"
   ]
  },
  {
   "cell_type": "code",
   "execution_count": null,
   "metadata": {},
   "outputs": [],
   "source": [
    "orl_faces = ImageFolder('/home/dip365/data/ORL/', \n",
    "                       transform=transforms.Compose([\n",
    "                           transforms.Grayscale(),\n",
    "                           transforms.ToTensor(),\n",
    "                           transforms.Lambda(lambda x: np.array(x).ravel())\n",
    "                       ]))\n",
    "\n",
    "allfaces = np.stack([orl_faces[i][0] for i in range(len(orl_faces))])"
   ]
  },
  {
   "cell_type": "code",
   "execution_count": null,
   "metadata": {},
   "outputs": [],
   "source": [
    "# Now get NUMPCA most important 10304-d directions in the space of faces.\n",
    "pca = PCA(n_components=NUMPCA)\n",
    "Xp = pca.fit_transform(allfaces) # Xp is 320 x 10, the 10-pca dimensional projections of each image.\n",
    "print('Explained variation per principal component: {}...'.format(pca.explained_variance_ratio_[:20]))\n",
    "print(f'Total variance explained in {NUMPCA} dimensions: {np.sum(pca.explained_variance_ratio_)}')"
   ]
  },
  {
   "cell_type": "code",
   "execution_count": null,
   "metadata": {},
   "outputs": [],
   "source": [
    "np.sum(pca.explained_variance_ratio_[:20])"
   ]
  },
  {
   "cell_type": "markdown",
   "metadata": {},
   "source": [
    "&nbsp;\n",
    "\n",
    "## Now we'll reconstruct some image."
   ]
  },
  {
   "cell_type": "code",
   "execution_count": null,
   "metadata": {},
   "outputs": [],
   "source": [
    "if IMAGE is None:\n",
    "    which = np.random.choice(len(allfaces))\n",
    "    I = np.reshape(allfaces[which,:], imshape).copy()\n",
    "    coeff = Xp[which, :].squeeze()\n",
    "else:\n",
    "    I = rgb2gray(plt.imread(IMAGE))\n",
    "    coeff = pca.transform(I.ravel()[None,:]).squeeze()"
   ]
  },
  {
   "cell_type": "code",
   "execution_count": null,
   "metadata": {},
   "outputs": [],
   "source": [
    "f, ax = plt.subplots(1,1,figsize=(3,3))\n",
    "ax.imshow(I, cmap='gray')\n",
    "plt.show()"
   ]
  },
  {
   "cell_type": "markdown",
   "metadata": {},
   "source": [
    "&nbsp;\n",
    "\n",
    "## The reconstruction is, as before, a linear combination of\n",
    "pc's added to the mean."
   ]
  },
  {
   "cell_type": "code",
   "execution_count": null,
   "metadata": {},
   "outputs": [],
   "source": [
    "# We need to include the mean as though it is one of the dimensions\n",
    "# that can be added...\n",
    "# And let's also reorder the pcas\n",
    "\n",
    "# In order of absolute magnitude\n",
    "# inorder = np.arange(0, len(coeff))\n",
    "inorder = np.argsort(np.abs(coeff))[::-1]\n",
    "\n",
    "pcas = np.concatenate([pca.mean_[None,:], pca.components_[inorder]], axis=0)\n",
    "coeff = np.array([1] + list(coeff[inorder]))"
   ]
  },
  {
   "cell_type": "code",
   "execution_count": null,
   "metadata": {},
   "outputs": [],
   "source": [
    "def reconstruct(ind):\n",
    "    global pcas, coeff, imshape\n",
    "    return np.reshape(np.matmul(coeff[:ind+1], pcas[:ind+1]), imshape)"
   ]
  },
  {
   "cell_type": "code",
   "execution_count": null,
   "metadata": {},
   "outputs": [],
   "source": [
    "from ipywidgets import VBox, IntSlider\n",
    "\n",
    "plt.ioff()\n",
    "plt.clf()\n",
    "\n",
    "slider = IntSlider(\n",
    "    orientation='horizontal',\n",
    "    value=0,\n",
    "    min=0,\n",
    "    max=NUMPCA,\n",
    "    description='$c_i$'\n",
    ")\n",
    "\n",
    "\n",
    "curi = 0\n",
    "\n",
    "Ir = np.reshape(pca.mean_, imshape)\n",
    "AvgFace = Ir.copy()\n",
    "\n",
    "\n",
    "# Figure display and artists.\n",
    "\n",
    "fig_args = {'num':' ', 'frameon':True, 'sharex':True, 'sharey':True}\n",
    "fig, ax = plt.subplots(1,3, figsize=(8,3), **fig_args)\n",
    "\n",
    "ldisp = ax[0].imshow(Ir, cmap='gray')\n",
    "ltext = ax[0].set_title('mean')\n",
    "\n",
    "mdisp = ax[1].imshow(Ir, cmap='gray')\n",
    "ax[1].set_title('reconstruction')\n",
    "\n",
    "rdisp = ax[2].imshow(I-Ir, cmap='bwr')\n",
    "ax[2].set_title('error');\n",
    "\n",
    "\n",
    "\n",
    "# updatefig function\n",
    "def update_image(change):\n",
    "    global curi, inorder, pcas, Ir, ldisp, I, ltext, mdisp, rdisp, imshape\n",
    "    \n",
    "    # See where change.new is versus curi.\n",
    "    # Then update the reconstruction\n",
    "    # This was pointless! Both for the difficulty of coding \n",
    "    # and for the accumulation of floating point error.\n",
    "#     newi = change.new\n",
    "#     diff = newi - curi\n",
    "#     if diff > 0:\n",
    "#         while curi != newi:\n",
    "#             curi += 1\n",
    "#             Ir = Ir + np.reshape(coeff[curi]*pcas[curi], imshape)\n",
    "#     elif diff < 0:\n",
    "#         while curi != newi:\n",
    "#             curi -= 1\n",
    "#             Ir = Ir - np.reshape(coeff[curi]*pcas[curi], imshape)\n",
    "    \n",
    "    curi = change.new\n",
    "    \n",
    "    pc = np.reshape(pcas[curi], imshape)\n",
    "    ldisp.set_array(pc)\n",
    "    ldisp.set_clim(pc.min(), pc.max())\n",
    "    \n",
    "    # Tried, but failed, to add tex math in an f-string: \n",
    "    # https://stackoverflow.com/questions/50209287/evaluating-variable-contain-mathematical-expression-in-f-strings\n",
    "    # ltext.set_text(f'$pc_{{curi}}$')\n",
    "    # ltext.set_text(r'$pc_{:03d}$'.format(curi)) # only the first digit is subscript\n",
    "    # This works because the old %format style does not conflict with the use of {} in math tex.\n",
    "    ltext.set_text('$pc_{%03d}$' % curi)  \n",
    "    \n",
    "    \n",
    "    Ir = reconstruct(curi)\n",
    "    mdisp.set_array(Ir)\n",
    "    mdisp.set_clim(Ir.min(), Ir.max())\n",
    "    \n",
    "    \n",
    "    rdisp.set_array(I-Ir)\n",
    "    \n",
    "    fig.canvas.draw()\n",
    "    fig.canvas.flush_events()\n",
    "\n",
    "\n",
    "slider.observe(update_image, names='value')\n",
    "\n",
    "VBox([slider, fig.canvas])"
   ]
  },
  {
   "cell_type": "code",
   "execution_count": null,
   "metadata": {},
   "outputs": [],
   "source": []
  }
 ],
 "metadata": {
  "kernelspec": {
   "display_name": "Python 3",
   "language": "python",
   "name": "python3"
  },
  "language_info": {
   "codemirror_mode": {
    "name": "ipython",
    "version": 3
   },
   "file_extension": ".py",
   "mimetype": "text/x-python",
   "name": "python",
   "nbconvert_exporter": "python",
   "pygments_lexer": "ipython3",
   "version": "3.7.3"
  }
 },
 "nbformat": 4,
 "nbformat_minor": 4
}
