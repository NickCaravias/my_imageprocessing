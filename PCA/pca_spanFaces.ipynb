{
 "cells": [
  {
   "cell_type": "markdown",
   "metadata": {},
   "source": [
    "# Spanning PCA dimensions.\n",
    "stough 202-\n",
    "\n",
    "In this visualization, we sort all the faces by their coefficient in the 0th\n",
    "(most important) pca dimension. Then we just loop over them.\n",
    "\n",
    "Second, we also show the abstract 'face' $\\pm 2\\sigma$ in the 0th pc."
   ]
  },
  {
   "cell_type": "code",
   "execution_count": null,
   "metadata": {},
   "outputs": [],
   "source": [
    "%matplotlib widget\n",
    "import matplotlib.pyplot as plt\n",
    "import numpy as np\n",
    "from matplotlib.offsetbox import (OffsetImage,\n",
    "                                  AnnotationBbox)\n",
    "import matplotlib.animation as animation\n",
    "from sklearn.decomposition import PCA\n",
    "\n",
    "from torchvision import transforms\n",
    "from torchvision.datasets import ImageFolder\n",
    "NUMFACES = 20 # Number of random faces to display in the first scatterplot\n",
    "NUMSUBJECTS = 3 # Number of subjects to display in the subject-specific scatter\n",
    "\n",
    "imshape = (112, 92)"
   ]
  },
  {
   "cell_type": "code",
   "execution_count": null,
   "metadata": {},
   "outputs": [],
   "source": [
    "orl_faces = ImageFolder('/home/dip365/data/ORL/', \n",
    "                       transform=transforms.Compose([\n",
    "                           transforms.Grayscale(),\n",
    "                           transforms.ToTensor(),\n",
    "                           transforms.Lambda(lambda x: np.array(x).ravel())\n",
    "                       ]))\n",
    "\n",
    "faces = np.stack([orl_faces[i][0] \n",
    "                  for i in np.random.choice(len(orl_faces), NUMFACES)])\n",
    "allfaces = np.stack([orl_faces[i][0] for i in range(len(orl_faces))])"
   ]
  },
  {
   "cell_type": "code",
   "execution_count": null,
   "metadata": {},
   "outputs": [],
   "source": [
    "# Now get 10 most important 10304-d directions in the space of faces.\n",
    "pca = PCA(n_components=10)\n",
    "Xp = pca.fit_transform(allfaces) # Xp is 320 x 10, the 10-pca dimensional projections of each image.\n",
    "print('Explained variation per principal component: {}'.format(pca.explained_variance_ratio_))\n",
    "\n",
    "# First, show the average and first two pca directions\n",
    "\n",
    "f, ax = plt.subplots(1,3, figsize=(9, 3), sharey=True, sharex=True)\n",
    "f.canvas.set_window_title('Average Face and Two Pricipal Components')\n",
    "ax[0].imshow(np.reshape(allfaces.mean(axis=0), imshape), cmap='gray')\n",
    "ax[0].set_title('Average Face')\n",
    "\n",
    "# pca.components_ is 10 x 10304 here, representing the most meaningful\n",
    "# directions in the 10304-d space of face images.\n",
    "ax[1].imshow(np.reshape(pca.components_[0,:], imshape), cmap='gray')\n",
    "ax[1].set_title('PCA 1')\n",
    "\n",
    "ax[2].imshow(np.reshape(pca.components_[1,:], imshape), cmap='gray')\n",
    "ax[2].set_title('PCA 2');"
   ]
  },
  {
   "cell_type": "markdown",
   "metadata": {},
   "source": [
    "&nbsp;\n",
    "\n",
    "## Faces sorted along the first principal component."
   ]
  },
  {
   "cell_type": "code",
   "execution_count": null,
   "metadata": {},
   "outputs": [],
   "source": [
    "# Now, animate from one extreme to the other in the first pca direction.\n",
    "\n",
    "inorder = np.argsort(Xp[:,0]) # Sort on the first pca dimension.\n",
    "\n",
    "f2, ax2 = plt.subplots(1, 3, figsize = (9, 3), sharex=True, sharey=True)\n",
    "f2.canvas.set_window_title('Faces Sorted According to PCA 1 Score')\n",
    "\n",
    "ax2[0].imshow(np.reshape(allfaces[inorder[0]], imshape), cmap='gray')\n",
    "ax2[2].imshow(np.reshape(allfaces[inorder[-1]], imshape), cmap='gray')\n",
    "\n",
    "cI = ax2[1].imshow(np.reshape(allfaces[inorder[0]], imshape),\n",
    "                   cmap='gray', animated=True)\n",
    "\n",
    "whicharg = 0\n",
    "\n",
    "cIText = ax2[1].text(10, 105,\n",
    "                     '%d, %7.2f' % (whicharg, Xp[inorder[whicharg],0]),\n",
    "                     fontsize=10, color='k')\n",
    "\n",
    "\n",
    "\n",
    "# Needs to update the array data and the texts, then\n",
    "# return the artists. see:\n",
    "# https://matplotlib.org/api/_as_gen/matplotlib.animation.FuncAnimation.html\n",
    "#\n",
    "def updateFig(*args):\n",
    "    global faces, whicharg, inorder, Xp\n",
    "\n",
    "    cI.set_array(np.reshape(allfaces[inorder[whicharg]], imshape))\n",
    "\n",
    "    cIText.set_text('%d, %7.2f' % (whicharg, Xp[inorder[whicharg], 0]))\n",
    "\n",
    "    whicharg += 1\n",
    "    if whicharg == len(inorder):\n",
    "        whicharg = 0\n",
    "\n",
    "    return cI, cIText,\n",
    "\n",
    "ani = animation.FuncAnimation(f2, updateFig, interval=300, blit=True, repeat=False)"
   ]
  },
  {
   "cell_type": "markdown",
   "metadata": {},
   "source": [
    "&nbsp;\n",
    "\n",
    "## $\\pm 2\\sigma$ on $PC_0$"
   ]
  },
  {
   "cell_type": "code",
   "execution_count": null,
   "metadata": {},
   "outputs": [],
   "source": [
    "# We're only going to change one image, but I want to see the two end points \n",
    "varmax = 2.5\n",
    "sigmas = np.sqrt(pca.explained_variance_)\n",
    "face_neg = np.reshape(pca.mean_ - varmax*sigmas[0]*pca.components_[0,:], imshape)\n",
    "face_pos = np.reshape(pca.mean_ + varmax*sigmas[0]*pca.components_[0,:], imshape)\n",
    "\n",
    "def makeinterp(coeff):\n",
    "    global pca, sigmas, imshape\n",
    "    return np.reshape(pca.mean_ + coeff*sigmas[0]*pca.components_[0,:], \n",
    "                      imshape)"
   ]
  },
  {
   "cell_type": "code",
   "execution_count": null,
   "metadata": {},
   "outputs": [],
   "source": [
    "from ipywidgets import VBox, FloatSlider\n",
    "\n",
    "plt.ioff()\n",
    "plt.clf()\n",
    "\n",
    "slider = FloatSlider(\n",
    "    orientation='horizontal',\n",
    "    value=0.0,\n",
    "    min=-varmax,\n",
    "    max=varmax,\n",
    "    description='$w_1$'\n",
    ")\n",
    "\n",
    "\n",
    "fig_args = {'num':' ', 'frameon':True, 'sharex':True, 'sharey':True}\n",
    "fig, ax = plt.subplots(1,3, figsize=(8,3), **fig_args)\n",
    "\n",
    "\n",
    "Ic = makeinterp(0);\n",
    "\n",
    "# display artists I'll update\n",
    "ldisp = ax[0].imshow(face_neg, cmap='gray')\n",
    "ax[0].set_title(f'{-varmax}')\n",
    "\n",
    "mdisp = ax[1].imshow(Ic, cmap='gray')\n",
    "\n",
    "rdisp = ax[2].imshow(face_pos, cmap='gray')\n",
    "ax[2].set_title(f'{varmax}')\n",
    "\n",
    "mtext = ax[1].set_title(f'$w_0: 0$')\n",
    "\n",
    "\n",
    "# updatefig function\n",
    "def update_image(change):\n",
    "    global Ic, mdisp\n",
    "    Ic = makeinterp(change.new)\n",
    "    mdisp.set_array(Ic)\n",
    "    mdisp.set_clim(Ic.min(), Ic.max())\n",
    "    mtext.set_text(f'$w_0: ${change.new}')  # '{}*LaPlace'.format(change.new))\n",
    "    fig.canvas.draw()\n",
    "    fig.canvas.flush_events()\n",
    "\n",
    "slider.observe(update_image, names='value')\n",
    "\n",
    "VBox([slider, fig.canvas])"
   ]
  },
  {
   "cell_type": "code",
   "execution_count": null,
   "metadata": {},
   "outputs": [],
   "source": []
  }
 ],
 "metadata": {
  "kernelspec": {
   "display_name": "Python 3",
   "language": "python",
   "name": "python3"
  },
  "language_info": {
   "codemirror_mode": {
    "name": "ipython",
    "version": 3
   },
   "file_extension": ".py",
   "mimetype": "text/x-python",
   "name": "python",
   "nbconvert_exporter": "python",
   "pygments_lexer": "ipython3",
   "version": "3.7.3"
  }
 },
 "nbformat": 4,
 "nbformat_minor": 4
}
