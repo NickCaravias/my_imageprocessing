{
 "cells": [
  {
   "cell_type": "markdown",
   "metadata": {},
   "source": [
    "# Playing with the Radon Transform\n",
    "stough 202-\n",
    "\n",
    "In this worksheet, please explore a bit about the [radon transform](http://scikit-image.org/docs/dev/auto_examples/transform/plot_radon_transform.html)."
   ]
  },
  {
   "cell_type": "code",
   "execution_count": null,
   "metadata": {},
   "outputs": [],
   "source": [
    "%matplotlib widget\n",
    "import numpy as np\n",
    "import matplotlib.pyplot as plt\n",
    "from skimage.transform import radon, iradon, rotate, matrix_transform\n",
    "import matplotlib.animation as animation\n",
    "\n",
    "# For importing from alternative directory sources\n",
    "import sys  \n",
    "sys.path.insert(0, '../dip_utils')\n",
    "\n",
    "from matrix_utils import (arr_info,\n",
    "                          make_linmap)\n",
    "from vis_utils import (vis_rgb_cube,\n",
    "                       vis_hists,\n",
    "                       vis_image,\n",
    "                       vis_pair,\n",
    "                       vis_surface)\n",
    "from wavelet_utils import (make_dct_matrix,\n",
    "                           make_haar_matrix)"
   ]
  },
  {
   "cell_type": "markdown",
   "metadata": {},
   "source": [
    "## 1. Viewing simple images in the sinogram space.\n",
    "\n",
    "View several simple images in the sinogram space. For each, try to explain what you see.\n",
    "\n",
    "Note, by \"explain what you see,\" I mean try to reason about how the content of the image relates to\n",
    "- where the sinogram is nonzero\n",
    "- where the sinogram is particularly bright versus not."
   ]
  },
  {
   "cell_type": "code",
   "execution_count": null,
   "metadata": {},
   "outputs": [],
   "source": [
    "H = make_haar_matrix(128)\n",
    "I1 = np.clip(np.outer(H[0], H[1]), 0, 1)\n",
    "vis_image(I1, cmap='gray')"
   ]
  },
  {
   "cell_type": "code",
   "execution_count": null,
   "metadata": {},
   "outputs": [],
   "source": [
    "# View with Radon\n",
    "# For the radon image.\n",
    "theta = np.linspace(0., 180., 128, endpoint=False)\n",
    "\n",
    "R = radon(I1, theta=theta, circle=True)\n",
    "vis_pair(I1, R, cmap='gray')"
   ]
  },
  {
   "cell_type": "markdown",
   "metadata": {},
   "source": [
    "### Explain what you see"
   ]
  },
  {
   "cell_type": "code",
   "execution_count": null,
   "metadata": {},
   "outputs": [],
   "source": []
  },
  {
   "cell_type": "code",
   "execution_count": null,
   "metadata": {},
   "outputs": [],
   "source": [
    "# Another example\n",
    "I2 = np.clip(np.outer(H[3], H[1]), 0, 1)\n",
    "vis_image(I2, cmap='gray')"
   ]
  },
  {
   "cell_type": "code",
   "execution_count": null,
   "metadata": {},
   "outputs": [],
   "source": [
    "# View with Radon\n",
    "# For the radon image.\n",
    "theta = np.linspace(0., 181., 180, endpoint=False)\n",
    "\n",
    "R = radon(I2, theta=theta, circle=False)\n",
    "vis_pair(I2, R, cmap='gray', shared=False)"
   ]
  },
  {
   "cell_type": "code",
   "execution_count": null,
   "metadata": {},
   "outputs": [],
   "source": [
    "plt.figure()\n",
    "plt.plot(R[:,0])"
   ]
  },
  {
   "cell_type": "markdown",
   "metadata": {},
   "source": [
    "### Explain what you see"
   ]
  },
  {
   "cell_type": "code",
   "execution_count": null,
   "metadata": {},
   "outputs": [],
   "source": []
  },
  {
   "cell_type": "code",
   "execution_count": null,
   "metadata": {},
   "outputs": [],
   "source": [
    "# Another example\n",
    "H = make_dct_matrix(128)\n",
    "I3 = np.outer(H[6], H[0])\n",
    "I3 = (I3-I3.min())/(I3.max() - I3.min())\n",
    "vis_image(I3, cmap='gray')"
   ]
  },
  {
   "cell_type": "code",
   "execution_count": null,
   "metadata": {},
   "outputs": [],
   "source": [
    "# View with Radon"
   ]
  },
  {
   "cell_type": "markdown",
   "metadata": {},
   "source": [
    "### Explain what you see\n",
    "\n",
    "You might try this example with the `circle` parameter to [radon](https://scikit-image.org/docs/dev/api/skimage.transform.html#skimage.transform.radon) set to `False`. If you look at just the first column of the sinogram, what does that tell you? What about if you plot the column midway through the sinogram, corresponding to $\\varphi = 90$ "
   ]
  },
  {
   "cell_type": "code",
   "execution_count": null,
   "metadata": {},
   "outputs": [],
   "source": []
  },
  {
   "cell_type": "markdown",
   "metadata": {},
   "source": [
    "## 2. Manipulate a grayscale image in the radon/sinogram space.\n",
    "\n",
    "Try a relatively simple image with a black background, will be quite a bit easier to understand. See a search like [this](https://www.google.com/search?as_st=y&tbm=isch&as_q=black+background+images&as_epq=&as_oq=&as_eq=&imgsz=&imgar=&imgc=&imgcolor=&imgtype=&cr=&as_sitesearch=&safe=images&as_filetype=&tbs=)."
   ]
  },
  {
   "cell_type": "code",
   "execution_count": null,
   "metadata": {},
   "outputs": [],
   "source": []
  },
  {
   "cell_type": "markdown",
   "metadata": {},
   "source": [
    "### Explain what you see in the sinogram."
   ]
  },
  {
   "cell_type": "markdown",
   "metadata": {},
   "source": []
  },
  {
   "cell_type": "markdown",
   "metadata": {},
   "source": [
    "### Show and explain what happens if you zero out the middle $N$ rows of the sinogram. \n",
    "You can use [`iradon`](https://scikit-image.org/docs/dev/api/skimage.transform.html#skimage.transform.iradon) to go from a sinogram back to the spatial domain."
   ]
  },
  {
   "cell_type": "code",
   "execution_count": null,
   "metadata": {},
   "outputs": [],
   "source": []
  }
 ],
 "metadata": {
  "kernelspec": {
   "display_name": "Python 3",
   "language": "python",
   "name": "python3"
  },
  "language_info": {
   "codemirror_mode": {
    "name": "ipython",
    "version": 3
   },
   "file_extension": ".py",
   "mimetype": "text/x-python",
   "name": "python",
   "nbconvert_exporter": "python",
   "pygments_lexer": "ipython3",
   "version": "3.7.3"
  }
 },
 "nbformat": 4,
 "nbformat_minor": 4
}
