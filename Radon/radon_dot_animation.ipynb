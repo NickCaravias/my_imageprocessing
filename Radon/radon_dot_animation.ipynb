{
 "cells": [
  {
   "cell_type": "markdown",
   "metadata": {},
   "source": [
    "# Radon Dot Animation\n",
    "stough 202-\n",
    "\n",
    "This is a quick demonstration the [Radon transform](https://en.wikipedia.org/wiki/Radon_transform), or sinogram, of a dot. \n",
    "We animate to see how the sinogram changes as the dot moves.\n",
    "\n",
    "- [`skimage` radon transform](http://scikit-image.org/docs/dev/auto_examples/transform/plot_radon_transform.html)\n",
    "- [mouse click event handling](https://matplotlib.org/stable/users/event_handling.html)"
   ]
  },
  {
   "cell_type": "markdown",
   "metadata": {},
   "source": [
    "## Imports\n",
    "Note we'll just rely on [`skimage.transform`](https://scikit-image.org/docs/dev/api/skimage.transform.html) for the transform itself. "
   ]
  },
  {
   "cell_type": "code",
   "execution_count": null,
   "metadata": {},
   "outputs": [],
   "source": [
    "%matplotlib widget\n",
    "import numpy as np\n",
    "import matplotlib.pyplot as plt\n",
    "from skimage.transform import radon, rotate, matrix_transform\n",
    "import matplotlib.animation as animation\n",
    "\n",
    "# For importing from alternative directory sources\n",
    "import sys  \n",
    "sys.path.insert(0, '../dip_utils')\n",
    "\n",
    "from matrix_utils import (arr_info,\n",
    "                          make_linmap)\n",
    "from vis_utils import (vis_rgb_cube,\n",
    "                       vis_hists,\n",
    "                       vis_image,\n",
    "                       vis_pair,\n",
    "                       vis_surface)"
   ]
  },
  {
   "cell_type": "markdown",
   "metadata": {},
   "source": [
    "## Defining an image of a disk \n",
    "Parameters include the image size, the disk radius, and the radius of the path of the disk as I animate it. Given the animation, we'll also need the number of frames to make a cycle and the millisecond interval between frames."
   ]
  },
  {
   "cell_type": "code",
   "execution_count": null,
   "metadata": {},
   "outputs": [],
   "source": [
    "STYLE = 'circle'\n",
    "FRAMES = 50\n",
    "INTERVAL = 400\n",
    "IMSIZE = 128\n",
    "DISKRADIUS = 10\n",
    "PATHRADIUS = 50\n",
    "\n",
    "I = np.zeros((IMSIZE, IMSIZE))\n",
    "\n",
    "x, y = np.meshgrid(np.arange(-IMSIZE/2, IMSIZE/2),\n",
    "                   np.arange(-IMSIZE/2, IMSIZE/2),\n",
    "                   indexing='xy')\n",
    "\n",
    "mask = (x-PATHRADIUS)**2 + y**2 < DISKRADIUS**2\n",
    "# xys = np.concatenate([np.expand_dims(p, axis = 1) for p in [y[mask], x[mask]]], axis=1)\n",
    "# I tried briefly to generate the image independently each frame to avoid the blurring, was harder.\n",
    "\n",
    "I[mask] = 1"
   ]
  },
  {
   "cell_type": "code",
   "execution_count": null,
   "metadata": {},
   "outputs": [],
   "source": [
    "vis_image(I, cmap='gray')"
   ]
  },
  {
   "cell_type": "markdown",
   "metadata": {},
   "source": [
    "### Visualize the Radon\n",
    "The sinogram plot is $\\phi$ by $\\rho$. Any particular pixel in the plot represents a line in the image space. The sum of intensities along that line in the image is the value of the pixel in the sinogram."
   ]
  },
  {
   "cell_type": "code",
   "execution_count": null,
   "metadata": {},
   "outputs": [],
   "source": [
    "# For the radon image.\n",
    "theta = np.linspace(0., 180., IMSIZE, endpoint=False)\n",
    "\n",
    "R = radon(I, theta=theta, circle=True)"
   ]
  },
  {
   "cell_type": "code",
   "execution_count": null,
   "metadata": {},
   "outputs": [],
   "source": [
    "vis_pair(I, R, cmap='gray')"
   ]
  },
  {
   "cell_type": "markdown",
   "metadata": {},
   "source": [
    "## Animate the Dot\n",
    "We've now also added button-clicking functionality to our interactive plotting skills."
   ]
  },
  {
   "cell_type": "code",
   "execution_count": null,
   "metadata": {},
   "outputs": [],
   "source": [
    "# Now that we have the image and its radon, let's plot\n",
    "\n",
    "f, ax = plt.subplots(1,2, figsize=(12,4),\n",
    "                     sharex=True, sharey=True)\n",
    "\n",
    "# Create the artists\n",
    "Ia = ax[0].imshow(I, cmap='gray')#, animated=True)\n",
    "ax[0].set_title('Image')\n",
    "\n",
    "Ra = ax[1].imshow(R, cmap='gray')#, animated=True)\n",
    "ax[1].set_title('Observed Sinogram/Radon')\n",
    "\n",
    "angleAmt = 360/FRAMES\n",
    "\n",
    "\n",
    "# Needs to update the array data and the texts, then\n",
    "# return the artists. see:\n",
    "# https://matplotlib.org/api/_as_gen/matplotlib.animation.FuncAnimation.html\n",
    "#\n",
    "def updateFig(*args):\n",
    "    global I, R, angleAmt, theta\n",
    "\n",
    "    Ia.set_array(I)\n",
    "    Ra.set_array(R)\n",
    "\n",
    "    # For next time...\n",
    "    I = rotate(I, angleAmt, order=1)\n",
    "    R = radon(I, theta=theta, circle=True)\n",
    "\n",
    "    return Ia, Ra,\n",
    "\n",
    "ani = animation.FuncAnimation(f, updateFig,\n",
    "                              interval=INTERVAL,\n",
    "                              blit=True, repeat=True)\n",
    "\n",
    "\n",
    "# https://matplotlib.org/users/event_handling.html\n",
    "\n",
    "def onclick(event):\n",
    "    global I, x, y, mask, theta, R\n",
    "\n",
    "    if event.inaxes is ax[0]:\n",
    "        print('%s click: button=%d, x=%d, y=%d, xdata=%f, ydata=%f' %\n",
    "              ('double' if event.dblclick else 'single', event.button,\n",
    "               event.x, event.y, event.xdata, event.ydata))\n",
    "\n",
    "        I[:] = 0\n",
    "        mask = (x - (event.xdata - IMSIZE / 2)) ** 2 + \\\n",
    "               (y - (event.ydata - IMSIZE / 2)) ** 2 <= DISKRADIUS ** 2\n",
    "        I[mask] = 1\n",
    "        R = radon(I, theta=theta, circle=True)\n",
    "\n",
    "        Ia.set_array(I)\n",
    "        Ra.set_array(R)\n",
    "\n",
    "        # ax[0].imshow(I)\n",
    "        plt.show()\n",
    "        plt.draw()\n",
    "\n",
    "\n",
    "cid = f.canvas.mpl_connect('button_press_event', onclick)"
   ]
  },
  {
   "cell_type": "code",
   "execution_count": null,
   "metadata": {},
   "outputs": [],
   "source": []
  }
 ],
 "metadata": {
  "kernelspec": {
   "display_name": "Python 3",
   "language": "python",
   "name": "python3"
  },
  "language_info": {
   "codemirror_mode": {
    "name": "ipython",
    "version": 3
   },
   "file_extension": ".py",
   "mimetype": "text/x-python",
   "name": "python",
   "nbconvert_exporter": "python",
   "pygments_lexer": "ipython3",
   "version": "3.7.3"
  }
 },
 "nbformat": 4,
 "nbformat_minor": 4
}
