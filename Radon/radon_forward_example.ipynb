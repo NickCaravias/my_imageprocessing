{
 "cells": [
  {
   "cell_type": "markdown",
   "metadata": {},
   "source": [
    "# Radon Forward Example\n",
    "stough 202-\n",
    "\n",
    "Ripped from [sample code](http://scikit-image.org/docs/dev/auto_examples/transform/plot_radon_transform.html)."
   ]
  },
  {
   "cell_type": "code",
   "execution_count": null,
   "metadata": {},
   "outputs": [],
   "source": [
    "%matplotlib widget\n",
    "import numpy as np\n",
    "import matplotlib.pyplot as plt\n",
    "\n",
    "from skimage import data_dir\n",
    "from skimage.transform import radon, rescale\n",
    "from skimage.color import rgb2gray"
   ]
  },
  {
   "cell_type": "code",
   "execution_count": null,
   "metadata": {},
   "outputs": [],
   "source": [
    "image = rgb2gray(plt.imread(data_dir + \"/phantom.png\"))\n",
    "image = rescale(image, scale=0.4, mode='reflect') # 0.14 option, multichannel=False)\n",
    "\n",
    "fig, (ax1, ax2) = plt.subplots(1, 2, figsize=(8, 4.5))\n",
    "\n",
    "ax1.set_title(\"Original\")\n",
    "ax1.imshow(image, cmap=plt.cm.Greys_r)\n",
    "\n",
    "theta = np.linspace(0., 180., max(image.shape), endpoint=False)\n",
    "sinogram = radon(image, theta=theta, circle=True)\n",
    "ax2.set_title(\"Radon transform\\n(Sinogram)\")\n",
    "ax2.set_xlabel(\"Projection angle (deg)\")\n",
    "ax2.set_ylabel(\"Projection position (pixels)\")\n",
    "ax2.imshow(sinogram, cmap=plt.cm.Greys_r,\n",
    "           extent=(0, 180, 0, sinogram.shape[0]), aspect='auto')\n",
    "\n",
    "fig.tight_layout()\n",
    "plt.show()"
   ]
  },
  {
   "cell_type": "code",
   "execution_count": null,
   "metadata": {},
   "outputs": [],
   "source": []
  }
 ],
 "metadata": {
  "kernelspec": {
   "display_name": "Python 3",
   "language": "python",
   "name": "python3"
  },
  "language_info": {
   "codemirror_mode": {
    "name": "ipython",
    "version": 3
   },
   "file_extension": ".py",
   "mimetype": "text/x-python",
   "name": "python",
   "nbconvert_exporter": "python",
   "pygments_lexer": "ipython3",
   "version": "3.7.3"
  }
 },
 "nbformat": 4,
 "nbformat_minor": 4
}
