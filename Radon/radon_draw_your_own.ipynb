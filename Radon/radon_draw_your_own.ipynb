{
 "cells": [
  {
   "cell_type": "markdown",
   "metadata": {},
   "source": [
    "# Radon Transform, Draw Your Own\n",
    "stough 202-\n",
    "\n",
    "Using mouse movements to draw, and then show the radon\n",
    "transform of the resulting picture.\n",
    "\n",
    " \n",
    "- [`skimage` radon transform](https://scikit-image.org/docs/dev/auto_examples/transform/plot_radon_transform.html)\n",
    "- [mouse click event handling](https://matplotlib.org/stable/users/event_handling.html)"
   ]
  },
  {
   "cell_type": "code",
   "execution_count": null,
   "metadata": {},
   "outputs": [],
   "source": [
    "%matplotlib widget\n",
    "import numpy as np\n",
    "import matplotlib.pyplot as plt\n",
    "from skimage.transform import radon"
   ]
  },
  {
   "cell_type": "markdown",
   "metadata": {},
   "source": [
    "### Parameters for the drawing.\n",
    "image size, brush size, etc."
   ]
  },
  {
   "cell_type": "code",
   "execution_count": null,
   "metadata": {},
   "outputs": [],
   "source": [
    "STYLE = 'circle'\n",
    "IMSIZE = 128\n",
    "BRUSHSIZE = 4"
   ]
  },
  {
   "cell_type": "markdown",
   "metadata": {},
   "source": [
    "### Even Cooler Animation\n",
    "Now we connect mouse interactions with the visualization."
   ]
  },
  {
   "cell_type": "code",
   "execution_count": null,
   "metadata": {},
   "outputs": [],
   "source": [
    "I = np.zeros((IMSIZE, IMSIZE))\n",
    "\n",
    "# x, y = np.meshgrid(np.arange(-IMSIZE/2, IMSIZE/2),\n",
    "#                    np.arange(-IMSIZE/2, IMSIZE/2),\n",
    "#                    indexing='xy')\n",
    "#\n",
    "# mask = np.zeros(I.shape).astype(bool)\n",
    "\n",
    "# For the radon image.\n",
    "theta = np.linspace(0., 180., IMSIZE, endpoint=False)\n",
    "R = radon(I, theta=theta, circle=True)\n",
    "\n",
    "\n",
    "# Now that we have the image and its radon, let's plot\n",
    "\n",
    "f, ax = plt.subplots(1,2, figsize=(12,4),\n",
    "                     sharex=True, sharey=True)\n",
    "\n",
    "# Initial Plots\n",
    "Ia = ax[0].imshow(I, cmap='gray')\n",
    "ax[0].set_title('Image')\n",
    "\n",
    "Ra = ax[1].imshow(R, cmap='gray')\n",
    "ax[1].set_title('Observed Sinogram/Radon')\n",
    "\n",
    "\n",
    "mid = 0\n",
    "\n",
    "# https://matplotlib.org/users/event_handling.html\n",
    "def on_down_click(event):\n",
    "    global I, theta, R, isDrawing, mid\n",
    "\n",
    "    if event.inaxes is ax[0]:\n",
    "        # print('%s click: button=%d, x=%d, y=%d, xdata=%f, ydata=%f' %\n",
    "        #       ('double' if event.dblclick else 'single', event.button,\n",
    "        #        event.x, event.y, event.xdata, event.ydata))\n",
    "\n",
    "        if event.button == 3: # right-click, erase\n",
    "            I[:] = 0\n",
    "            return\n",
    "\n",
    "        # I[:] = 0\n",
    "        # mask = (x - (event.xdata - IMSIZE / 2)) ** 2 + \\\n",
    "        #        (y - (event.ydata - IMSIZE / 2)) ** 2 <= DISKRADIUS ** 2\n",
    "        # I[mask] = 1\n",
    "\n",
    "        # I[event.xdata - BRUSHSIZE: event.xdata + BRUSHSIZE, \\\n",
    "        # event.ydata - BRUSHSIZE: event.ydata + BRUSHSIZE] = 1\n",
    "\n",
    "        x = np.round(event.ydata).astype(np.int32)\n",
    "        y = np.round(event.xdata).astype(np.int32)\n",
    "\n",
    "        I[x - BRUSHSIZE: x + BRUSHSIZE, \\\n",
    "        y - BRUSHSIZE: y + BRUSHSIZE] = 1\n",
    "\n",
    "        ax[0].imshow(I, cmap='gray')\n",
    "        # plt.show()\n",
    "        plt.draw()\n",
    "\n",
    "        mid = f.canvas.mpl_connect('motion_notify_event', on_motion)\n",
    "\n",
    "\n",
    "\n",
    "def on_motion(event):\n",
    "    global I, theta, R, isDrawing\n",
    "\n",
    "    if event.inaxes is ax[0]:\n",
    "        # mask = (x - (event.xdata - IMSIZE / 2)) ** 2 + \\\n",
    "        #        (y - (event.ydata - IMSIZE / 2)) ** 2 <= DISKRADIUS ** 2\n",
    "        # I[mask] = 1\n",
    "\n",
    "        x = np.round(event.ydata).astype(np.int32)\n",
    "        y = np.round(event.xdata).astype(np.int32)\n",
    "\n",
    "        I[x - BRUSHSIZE: x + BRUSHSIZE, \\\n",
    "        y - BRUSHSIZE: y + BRUSHSIZE] = 1\n",
    "\n",
    "        #Faster if we wait on the radon til mouse release.\n",
    "        # R = radon(I, theta=theta, circle=True)\n",
    "\n",
    "        Ia.set_data(I)\n",
    "        # ax[0].imshow(I, cmap='gray')\n",
    "        # ax[1].imshow(R, cmap='gray')\n",
    "        # plt.show()\n",
    "        plt.draw()\n",
    "\n",
    "def on_release(event):\n",
    "    global I, theta, R, isDrawing, mid\n",
    "\n",
    "    # Disconnect the motion callback\n",
    "    f.canvas.mpl_disconnect(mid)\n",
    "\n",
    "    R = radon(I, theta=theta, circle=True)\n",
    "    ax[0].imshow(I, cmap='gray')\n",
    "    ax[1].imshow(R, cmap='gray')\n",
    "\n",
    "    # plt.show()\n",
    "    plt.draw()\n",
    "\n",
    "\n",
    "\n",
    "cid = f.canvas.mpl_connect('button_press_event', on_down_click)\n",
    "# mid = f.canvas.mpl_connect('motion_notify_event', on_motion)\n",
    "uid = f.canvas.mpl_connect('button_release_event', on_release)"
   ]
  },
  {
   "cell_type": "code",
   "execution_count": null,
   "metadata": {},
   "outputs": [],
   "source": []
  }
 ],
 "metadata": {
  "kernelspec": {
   "display_name": "Python 3",
   "language": "python",
   "name": "python3"
  },
  "language_info": {
   "codemirror_mode": {
    "name": "ipython",
    "version": 3
   },
   "file_extension": ".py",
   "mimetype": "text/x-python",
   "name": "python",
   "nbconvert_exporter": "python",
   "pygments_lexer": "ipython3",
   "version": "3.7.3"
  }
 },
 "nbformat": 4,
 "nbformat_minor": 4
}
