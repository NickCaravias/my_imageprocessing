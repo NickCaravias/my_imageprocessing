{
 "cells": [
  {
   "cell_type": "markdown",
   "metadata": {},
   "source": [
    "# K-means single iteration\n",
    "Stough, DIP\n",
    "\n",
    "Demo on k means clustering. We generate a little data and then do a single\n",
    "step of the EM scheme for clustering.\n",
    "\n",
    "Finding objects in images:\n",
    "- Color coherence\n",
    "- Spatial coherence"
   ]
  },
  {
   "cell_type": "code",
   "execution_count": null,
   "metadata": {},
   "outputs": [],
   "source": [
    "%matplotlib widget\n",
    "import matplotlib.pyplot as plt\n",
    "import numpy as np\n",
    "\n",
    "# For importing from alternative directory sources\n",
    "import sys  \n",
    "sys.path.insert(0, '../dip_utils')\n",
    "\n",
    "from matrix_utils import (arr_info,\n",
    "                          make_linmap)\n",
    "from vis_utils import (vis_rgb_cube,\n",
    "                       vis_hists,\n",
    "                       vis_pair,\n",
    "                       vis_surface)\n",
    "\n",
    "from scipy.spatial.distance import cdist\n",
    "\n",
    "K = 2\n",
    "NUMPOINTS = 1000"
   ]
  },
  {
   "cell_type": "code",
   "execution_count": null,
   "metadata": {},
   "outputs": [],
   "source": [
    "# Let's generate 2d random data\n",
    "X1 = np.random.randn(NUMPOINTS//2, 2)  # Unit normal (mean 0, var 1)\n",
    "X2 = np.random.randn(NUMPOINTS//2, 2)\n",
    "\n",
    "X2[:,0] = 5 + 2*X2[:,0]\n",
    "X2[:,1] = 3 + 2*X2[:,1]  # X2 data should be mean (5,3) var 4\n",
    "\n",
    "X = np.concatenate([X1, X2], axis=0)"
   ]
  },
  {
   "cell_type": "markdown",
   "metadata": {},
   "source": [
    "### Look at the generated data"
   ]
  },
  {
   "cell_type": "code",
   "execution_count": null,
   "metadata": {},
   "outputs": [],
   "source": [
    "plt.figure()\n",
    "plt.scatter(X[:,0], X[:,1])"
   ]
  },
  {
   "cell_type": "code",
   "execution_count": null,
   "metadata": {},
   "outputs": [],
   "source": [
    "# For fun: Let's pick some random (and good) cluster colors\n",
    "clusterColors = np.random.rand(K, 3) # Picking random colors for each cluster.\n",
    "varsSoFar = np.var(clusterColors, axis=0) # Should be 1 x 2 of the variance of each column.\n",
    "\n",
    "for i in range(3*K):\n",
    "    tempColors = random.rand(K, 3) #Picking K random colors\n",
    "    vartemp = np.var(tempColors, axis=0)\n",
    "    if np.all(vartemp > varsSoFar):\n",
    "        clusterColors = tempColors\n",
    "        varsSoFar = vartemp"
   ]
  },
  {
   "cell_type": "code",
   "execution_count": null,
   "metadata": {},
   "outputs": [],
   "source": [
    "# K-means: initialization\n",
    "# pick K initial cluster centers.\n",
    "# whichinit = random.randint(0, len(X), size=(K,)) # Could generate repeats.\n",
    "whichinit = random.choice(len(X), size=K, replace=False)\n",
    "CC = X[whichinit, :].copy() # Cluster Centers\n",
    "\n",
    "CC_init = CC.copy()"
   ]
  },
  {
   "cell_type": "code",
   "execution_count": null,
   "metadata": {},
   "outputs": [],
   "source": [
    "CC"
   ]
  },
  {
   "cell_type": "code",
   "execution_count": null,
   "metadata": {},
   "outputs": [],
   "source": [
    "plt.figure(figsize=(4,4))\n",
    "plt.scatter(X[:,0], X[:,1], c='gray', alpha=.5)\n",
    "plt.scatter(CC[:,0], CC[:,1], s=30, c=clusterColors)"
   ]
  },
  {
   "cell_type": "code",
   "execution_count": null,
   "metadata": {},
   "outputs": [],
   "source": [
    "# K-means: compute: for every data point determine which center is closest.\n",
    "# Need some magic function that computes the distance between every row of X\n",
    "# (the points) and every row of CC (the clusters).\n",
    "D = cdist(X, CC, 'euclidean')\n",
    "# D should be NUMPOINTS x K\n",
    "\n",
    "whichCluster = np.argmin(D, axis=1) # NUMPOINTS x 1 of which center was closest"
   ]
  },
  {
   "cell_type": "code",
   "execution_count": null,
   "metadata": {},
   "outputs": [],
   "source": [
    "D[:10,:]"
   ]
  },
  {
   "cell_type": "code",
   "execution_count": null,
   "metadata": {},
   "outputs": [],
   "source": [
    "X[0,:]"
   ]
  },
  {
   "cell_type": "code",
   "execution_count": null,
   "metadata": {},
   "outputs": [],
   "source": [
    "plt.figure(figsize=(4,4))\n",
    "plt.scatter(X[:,0], X[:,1], c=clusterColors[whichCluster], alpha=.5)"
   ]
  },
  {
   "cell_type": "code",
   "execution_count": null,
   "metadata": {},
   "outputs": [],
   "source": [
    "# K-means: recompute the cluster centers as the mean of the data in each cluster\n",
    "for c in range(K):\n",
    "    CC[c,:] = np.mean(X[whichCluster == c, :], axis=0) # average of just those that were closest to c."
   ]
  },
  {
   "cell_type": "code",
   "execution_count": null,
   "metadata": {},
   "outputs": [],
   "source": [
    "np.mean(X[whichCluster == 0, :],axis=0)"
   ]
  },
  {
   "cell_type": "code",
   "execution_count": null,
   "metadata": {},
   "outputs": [],
   "source": [
    "(whichCluster == 1).sum()"
   ]
  },
  {
   "cell_type": "code",
   "execution_count": null,
   "metadata": {},
   "outputs": [],
   "source": [
    "plt.figure(figsize=(4,4))\n",
    "plt.scatter(X[:,0], X[:,1], c='gray', alpha=.5)\n",
    "plt.scatter(CC[:,0], CC[:,1], s=30, c=clusterColors)"
   ]
  },
  {
   "cell_type": "code",
   "execution_count": null,
   "metadata": {},
   "outputs": [],
   "source": [
    "# K-means: compute: for every data point determine which center is closest.\n",
    "# Need some magic function that computes the distance between every row of X\n",
    "# (the points) and every row of CC (the clusters).\n",
    "D = cdist(X, CC, 'euclidean')\n",
    "# D should be NUMPOINTS x K\n",
    "\n",
    "whichCluster = np.argmin(D, axis=1) # NUMPOINTS x 1 of which center was closest"
   ]
  },
  {
   "cell_type": "code",
   "execution_count": null,
   "metadata": {},
   "outputs": [],
   "source": [
    "plt.figure(figsize=(4,4))\n",
    "plt.scatter(X[:,0], X[:,1], c=clusterColors[whichCluster], alpha=.5)"
   ]
  },
  {
   "cell_type": "code",
   "execution_count": null,
   "metadata": {},
   "outputs": [],
   "source": []
  },
  {
   "cell_type": "code",
   "execution_count": null,
   "metadata": {},
   "outputs": [],
   "source": []
  },
  {
   "cell_type": "code",
   "execution_count": null,
   "metadata": {},
   "outputs": [],
   "source": [
    "f, ax = plt.subplots(1,3, figsize=(9,3), sharex=True, sharey=True)\n",
    "ax[0].scatter(X[:,0], X[:,1], c='gray', s=20)\n",
    "ax[0].set_title('Original Data')\n",
    "\n",
    "\n",
    "ax[1].scatter(X[:,0], X[:,1], c='gray', alpha=.5, s=20)\n",
    "ax[1].scatter(CC_init[:,0], CC_init[:,1], c=clusterColors, s=50)\n",
    "ax[1].set_title('Initial Cluster Centers')\n",
    "\n",
    "\n",
    "\n",
    "\n",
    "\n",
    "\n",
    "pointColors = clusterColors[whichCluster]\n",
    "clusterEdgeColors = 1 - clusterColors # for contrast, make the cluster center edges opposite.\n",
    "\n",
    "ax[2].scatter(X[:,0], X[:,1], c=pointColors, alpha=.5, s=20)\n",
    "ax[2].scatter(CC[:,0], CC[:,1], c=clusterColors, edgecolors=clusterEdgeColors, s=50)\n",
    "ax[2].set_title('Recomputed Clusters')"
   ]
  },
  {
   "cell_type": "code",
   "execution_count": null,
   "metadata": {},
   "outputs": [],
   "source": []
  },
  {
   "cell_type": "code",
   "execution_count": null,
   "metadata": {},
   "outputs": [],
   "source": []
  }
 ],
 "metadata": {
  "kernelspec": {
   "display_name": "Python 3",
   "language": "python",
   "name": "python3"
  },
  "language_info": {
   "codemirror_mode": {
    "name": "ipython",
    "version": 3
   },
   "file_extension": ".py",
   "mimetype": "text/x-python",
   "name": "python",
   "nbconvert_exporter": "python",
   "pygments_lexer": "ipython3",
   "version": "3.7.3"
  }
 },
 "nbformat": 4,
 "nbformat_minor": 4
}
